{
 "cells": [
  {
   "cell_type": "markdown",
   "id": "fed2257f-86a7-4c42-8398-ac06a10dd711",
   "metadata": {},
   "source": [
    "## 텐서 플로우 설치"
   ]
  },
  {
   "cell_type": "code",
   "execution_count": null,
   "id": "da714cf7-cb55-4d96-9a70-8986e8ec6b2f",
   "metadata": {},
   "outputs": [],
   "source": [
    "!pip install tensorflow\n",
    "!pip install keras"
   ]
  }
 ],
 "metadata": {
  "kernelspec": {
   "display_name": "Python 3 (ipykernel)",
   "language": "python",
   "name": "python3"
  },
  "language_info": {
   "codemirror_mode": {
    "name": "ipython",
    "version": 3
   },
   "file_extension": ".py",
   "mimetype": "text/x-python",
   "name": "python",
   "nbconvert_exporter": "python",
   "pygments_lexer": "ipython3",
   "version": "3.10.2"
  }
 },
 "nbformat": 4,
 "nbformat_minor": 5
}
