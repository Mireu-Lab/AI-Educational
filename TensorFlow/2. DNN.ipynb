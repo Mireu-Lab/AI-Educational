{
 "cells": [
  {
   "cell_type": "markdown",
   "id": "71041157-defd-4f41-98ac-983dc8d3c37d",
   "metadata": {},
   "source": [
    "https://codetorial.net/tensorflow/mnist_classification.html"
   ]
  },
  {
   "cell_type": "markdown",
   "id": "ef8a422c-35af-4cc3-8d3c-8f18ba776c69",
   "metadata": {},
   "source": [
    "## 1. 텐서 플로우 모듈 불러오기"
   ]
  },
  {
   "cell_type": "code",
   "execution_count": null,
   "id": "356d4280-4eda-4756-a148-667064859fdd",
   "metadata": {},
   "outputs": [],
   "source": [
    "import tensorflow as tf"
   ]
  },
  {
   "cell_type": "markdown",
   "id": "2c4731f4-4ba5-435c-8598-45192e32869d",
   "metadata": {},
   "source": [
    "## 2. 손글씨 MNIST 데이터셋 임포트"
   ]
  },
  {
   "cell_type": "code",
   "execution_count": null,
   "id": "6a87569d-6722-4769-80ab-45b85547f214",
   "metadata": {},
   "outputs": [],
   "source": [
    "mnist = tf.keras.datasets.mnist\n",
    "(x_train, y_train), (x_test, y_test) = mnist.load_data()"
   ]
  },
  {
   "cell_type": "markdown",
   "id": "2e00132a-c165-491f-a5a8-eafbca7ca3f1",
   "metadata": {},
   "source": [
    "## 2. 데이터 전처리"
   ]
  },
  {
   "cell_type": "code",
   "execution_count": null,
   "id": "02c6ec67-8360-4939-998e-7bbfd97b459a",
   "metadata": {},
   "outputs": [],
   "source": [
    "x_train, x_test = x_train/255.0, x_test/255.0"
   ]
  },
  {
   "cell_type": "markdown",
   "id": "0fc6504b-241a-4947-9d42-0506f2963c31",
   "metadata": {},
   "source": [
    "## 3. 모델 구성"
   ]
  },
  {
   "cell_type": "code",
   "execution_count": null,
   "id": "a828bd18-dd70-4c35-8ae7-8f27a9065456",
   "metadata": {},
   "outputs": [],
   "source": [
    "model = tf.keras.models.Sequential([\n",
    "    tf.keras.layers.Flatten(input_shape=(28, 28)),\n",
    "    tf.keras.layers.Dense(512, activation=tf.nn.relu),\n",
    "    tf.keras.layers.Dense(10, activation=tf.nn.softmax)\n",
    "])"
   ]
  },
  {
   "cell_type": "code",
   "execution_count": null,
   "id": "f420057e-f0b3-4f6a-a0be-194420b5976d",
   "metadata": {},
   "outputs": [],
   "source": [
    "model.summary() # 모델 확인"
   ]
  },
  {
   "cell_type": "markdown",
   "id": "d1560edd-4dc8-43d1-a1ad-ee9ff6261750",
   "metadata": {},
   "source": [
    "## 4. 모델 컴파일"
   ]
  },
  {
   "cell_type": "code",
   "execution_count": null,
   "id": "1766c220-fff8-46e5-89ca-c5ddf5535138",
   "metadata": {},
   "outputs": [],
   "source": [
    "model.compile(optimizer='adam', loss='sparse_categorical_crossentropy', metrics=['accuracy'])"
   ]
  },
  {
   "cell_type": "markdown",
   "id": "23c50b58-a916-45cb-8407-78191bc78937",
   "metadata": {},
   "source": [
    "## 5. 모델 훈련"
   ]
  },
  {
   "cell_type": "code",
   "execution_count": null,
   "id": "6f7ca7de-4b70-4d6a-9cac-f37da6756d06",
   "metadata": {},
   "outputs": [],
   "source": [
    "model.fit(x_train, y_train, epochs=5)"
   ]
  },
  {
   "cell_type": "markdown",
   "id": "4a1f007c-84f0-4a16-908b-ac2405dda9e9",
   "metadata": {},
   "source": [
    "## 6. 정확도 평가"
   ]
  },
  {
   "cell_type": "code",
   "execution_count": null,
   "id": "16e9ebd4-2ef4-4415-96d6-21c55af2ae10",
   "metadata": {},
   "outputs": [],
   "source": [
    "test_loss, test_acc = model.evaluate(x_test, y_test)\n",
    "print('테스트 정확도:', test_acc)"
   ]
  }
 ],
 "metadata": {
  "kernelspec": {
   "display_name": "Python 3 (ipykernel)",
   "language": "python",
   "name": "python3"
  },
  "language_info": {
   "codemirror_mode": {
    "name": "ipython",
    "version": 3
   },
   "file_extension": ".py",
   "mimetype": "text/x-python",
   "name": "python",
   "nbconvert_exporter": "python",
   "pygments_lexer": "ipython3",
   "version": "3.10.2"
  }
 },
 "nbformat": 4,
 "nbformat_minor": 5
}
