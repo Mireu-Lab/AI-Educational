{
 "cells": [
  {
   "cell_type": "markdown",
   "id": "7f3f5e5d-5ac8-49b9-a855-a1f430509f78",
   "metadata": {},
   "source": [
    "\n",
    "https://www.tensorflow.org/tutorials/images/cnn?hl=ko"
   ]
  },
  {
   "cell_type": "markdown",
   "id": "c8268eb3-5a3a-4b5a-8274-ae8e7d4fb8f3",
   "metadata": {},
   "source": [
    "## 1. 텐서 플로우 모듈 불러오기\n"
   ]
  },
  {
   "cell_type": "code",
   "execution_count": null,
   "id": "98ba5782-85a7-45a1-8221-878ba258367e",
   "metadata": {},
   "outputs": [],
   "source": [
    "import tensorflow as tf"
   ]
  },
  {
   "cell_type": "markdown",
   "id": "24a557b2-c669-46ad-8ce0-d2eb78e020ed",
   "metadata": {},
   "source": [
    "## 2. 손글씨 MNIST 데이터셋 받기"
   ]
  },
  {
   "cell_type": "code",
   "execution_count": 35,
   "id": "02d98186-c20e-4568-8cf4-bb8a9d4db074",
   "metadata": {},
   "outputs": [],
   "source": [
    "(train_images, train_labels), (test_images, test_labels) = tf.keras.datasets.mnist.load_data()"
   ]
  },
  {
   "cell_type": "markdown",
   "id": "fbbd30a3-a739-4b65-8a67-eb6e197d99f5",
   "metadata": {},
   "source": [
    "## 3. 손글씨 MNIST 이미지 파일 전처리"
   ]
  },
  {
   "cell_type": "code",
   "execution_count": null,
   "id": "a13e0cd3-308f-4172-bb4e-92fea7c482fc",
   "metadata": {},
   "outputs": [],
   "source": [
    "train_images = train_images.reshape((60000, 28, 28, 1))\n",
    "test_images = test_images.reshape((10000, 28, 28, 1))\n",
    "\n",
    "# 픽셀 값을 0~1 사이로 정규화합니다.\n",
    "train_images, test_images = train_images / 255.0, test_images / 255.0"
   ]
  },
  {
   "cell_type": "markdown",
   "id": "a3618a94-f57e-4246-8754-f70c9373b746",
   "metadata": {},
   "source": [
    "## 4. AI 모델"
   ]
  },
  {
   "cell_type": "code",
   "execution_count": null,
   "id": "126f2ee7-40fc-43da-8106-403f255389f0",
   "metadata": {},
   "outputs": [],
   "source": [
    "model = tf.keras.models.Sequential([\n",
    "    tf.keras.layers.Conv2D(32, (3, 3), activation='relu', input_shape=(28, 28, 1)),\n",
    "    tf.keras.layers.MaxPooling2D((2, 2)),\n",
    "    \n",
    "    tf.keras.layers.Conv2D(64, (3, 3), activation='relu'),\n",
    "    tf.keras.layers.MaxPooling2D((2, 2)),\n",
    "    \n",
    "    tf.keras.layers.Conv2D(64, (3, 3), activation='relu'),\n",
    "    tf.keras.layers.Flatten(),\n",
    "    \n",
    "    tf.keras.layers.Dense(64, activation='relu'),\n",
    "    tf.keras.layers.Dense(10, activation='softmax')\n",
    "])"
   ]
  },
  {
   "cell_type": "code",
   "execution_count": null,
   "id": "7e121570-bd4b-4ab3-b45e-d91c35ed5651",
   "metadata": {},
   "outputs": [],
   "source": [
    "model.summary() # 모델 확인"
   ]
  },
  {
   "cell_type": "markdown",
   "id": "a260170b-ff04-453b-8349-fd00a1d17a17",
   "metadata": {},
   "source": [
    "## 5. 모텔 컴파일"
   ]
  },
  {
   "cell_type": "code",
   "execution_count": null,
   "id": "585c46ed-5032-4b0d-a6de-495ccac9468c",
   "metadata": {},
   "outputs": [],
   "source": [
    "# 4. 모델 컴파일\n",
    "model.compile(optimizer='adam', loss='sparse_categorical_crossentropy', metrics=['accuracy'])"
   ]
  },
  {
   "cell_type": "markdown",
   "id": "5facd44c-aba7-4e1c-89e4-fd6c0ae657df",
   "metadata": {},
   "source": [
    "## 6. 모델 훈련"
   ]
  },
  {
   "cell_type": "code",
   "execution_count": null,
   "id": "90dcf246-4a0e-45b6-b275-215efa9dbec2",
   "metadata": {},
   "outputs": [],
   "source": [
    "model.fit(train_images, train_labels, epochs=5)"
   ]
  },
  {
   "cell_type": "markdown",
   "id": "75eb14f9-b55b-4b87-a2b5-d13f21c0e240",
   "metadata": {},
   "source": [
    "## 7. 정확도 확인"
   ]
  },
  {
   "cell_type": "code",
   "execution_count": null,
   "id": "0d733d9c-e160-4ef4-aec9-4748bdcf955a",
   "metadata": {},
   "outputs": [],
   "source": [
    "test_loss, test_acc = model.evaluate(x_test, y_test)\n",
    "print('테스트 정확도:', test_acc)"
   ]
  }
 ],
 "metadata": {
  "kernelspec": {
   "display_name": "Python 3 (ipykernel)",
   "language": "python",
   "name": "python3"
  },
  "language_info": {
   "codemirror_mode": {
    "name": "ipython",
    "version": 3
   },
   "file_extension": ".py",
   "mimetype": "text/x-python",
   "name": "python",
   "nbconvert_exporter": "python",
   "pygments_lexer": "ipython3",
   "version": "3.10.2"
  }
 },
 "nbformat": 4,
 "nbformat_minor": 5
}
